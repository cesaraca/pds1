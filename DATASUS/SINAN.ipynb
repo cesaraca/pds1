{
  "cells": [
    {
      "cell_type": "markdown",
      "metadata": {
        "id": "xwB9bblyO7dW"
      },
      "source": [
        "<a href=\"https://colab.research.google.com/github/AlertaDengue/curso-pysus/blob/main/DATASUS/SINAN.ipynb\" target=\"_parent\"><img src=\"https://colab.research.google.com/assets/colab-badge.svg\" alt=\"Open In Colab\"/></a>\n",
        "# Interagindo com os dados do SINAN\n",
        "\n",
        "O SINAN é o Sistema de Informação de Agravos de Notificação, que é alimentado pelos municípios e estados brasileiros. Os dados são disponibilizados pelo [DATASUS](http://www.datasus.gov.br)."
      ]
    },
    {
      "cell_type": "markdown",
      "metadata": {
        "id": "Bl1ivQYGO7dX"
      },
      "source": []
    },
    {
      "cell_type": "code",
      "source": [
        "!pip install pysus"
      ],
      "metadata": {
        "id": "eZtH5OF3PHV2"
      },
      "execution_count": null,
      "outputs": []
    },
    {
      "cell_type": "code",
      "execution_count": 2,
      "metadata": {
        "ExecuteTime": {
          "end_time": "2023-11-30T13:49:24.014182217Z",
          "start_time": "2023-11-30T13:49:23.940770569Z"
        },
        "id": "-MddWOgCO7dY"
      },
      "outputs": [],
      "source": [
        "from pysus.online_data import SINAN, FTP_Inspect, parquets_to_dataframe\n",
        "import pandas as pd\n",
        "import warnings\n",
        "warnings.filterwarnings('ignore')"
      ]
    },
    {
      "cell_type": "markdown",
      "metadata": {
        "id": "224D04sDO7dZ"
      },
      "source": [
        "O SINAN monitora apenas um pequeno conjunto de doenças, que são as doenças de notificação compulsória. Para saber quais estão disponíveis para acesso por meio do PySUS, usaremos o seguinte comando:"
      ]
    },
    {
      "cell_type": "code",
      "execution_count": null,
      "metadata": {
        "ExecuteTime": {
          "end_time": "2023-11-30T12:58:54.149598226Z",
          "start_time": "2023-11-30T12:58:54.079304743Z"
        },
        "id": "4cjCAyd8O7dZ"
      },
      "outputs": [],
      "source": [
        "SINAN.list_diseases()"
      ]
    },
    {
      "cell_type": "markdown",
      "source": [
        "## Baixando os dados de certo agravo\n",
        "O Módulos de datasets do PySUS todos possuem uma função download, que baixa os dados de um determinado agravo para um diretório local. Por exemplo, para baixar os dados de dengue, usamos o seguinte comando:"
      ],
      "metadata": {
        "collapsed": false,
        "id": "rQd0avp0O7dZ"
      }
    },
    {
      "cell_type": "code",
      "execution_count": 4,
      "metadata": {
        "ExecuteTime": {
          "end_time": "2023-11-30T13:50:15.578639835Z",
          "start_time": "2023-11-30T13:50:15.522972424Z"
        },
        "colab": {
          "base_uri": "https://localhost:8080/"
        },
        "id": "8y4nbYeVO7dZ",
        "outputId": "396d6d26-2199-4f0e-e654-43a686b67367"
      },
      "outputs": [
        {
          "output_type": "stream",
          "name": "stderr",
          "text": [
            "DENGBR19.parquet: 100%|██████████| 3.63M/3.63M [04:02<00:00, 15.0kB/s]\n"
          ]
        },
        {
          "output_type": "execute_result",
          "data": {
            "text/plain": [
              "/root/pysus/DENGBR19.parquet"
            ]
          },
          "metadata": {},
          "execution_count": 4
        }
      ],
      "source": [
        "SINAN.download('Deng', years=2019)"
      ]
    },
    {
      "cell_type": "markdown",
      "source": [
        "Mas há uma API mais expressiva que também pode ser usada para baixar os dados."
      ],
      "metadata": {
        "collapsed": false,
        "id": "CLsllCxHO7da"
      }
    },
    {
      "cell_type": "code",
      "execution_count": 5,
      "outputs": [],
      "source": [
        "from pysus.ftp.databases.sinan import SINAN\n",
        "sinan = SINAN().load() # Loads the files from DATASUS"
      ],
      "metadata": {
        "ExecuteTime": {
          "end_time": "2023-11-30T13:23:26.193762043Z",
          "start_time": "2023-11-30T13:23:25.501697896Z"
        },
        "id": "dnhjAYPnO7da"
      }
    },
    {
      "cell_type": "markdown",
      "source": [
        "Com esta interface podemos inspecionar os dados disponíveis para download, antes de baixá-los."
      ],
      "metadata": {
        "collapsed": false,
        "id": "Vgwx9axZO7da"
      }
    },
    {
      "cell_type": "code",
      "execution_count": 6,
      "outputs": [
        {
          "output_type": "execute_result",
          "data": {
            "text/plain": [
              "[DENGBR22.dbc, DENGBR23.dbc, ZIKABR22.dbc, ZIKABR23.dbc]"
            ]
          },
          "metadata": {},
          "execution_count": 6
        }
      ],
      "source": [
        "arquivos = sinan.get_files(dis_code=[\"DENG\", \"ZIKA\"], year=[2022, 2023])\n",
        "arquivos"
      ],
      "metadata": {
        "ExecuteTime": {
          "end_time": "2023-11-30T13:26:28.469651977Z",
          "start_time": "2023-11-30T13:26:28.412982546Z"
        },
        "colab": {
          "base_uri": "https://localhost:8080/"
        },
        "id": "drXJJV-gO7da",
        "outputId": "2bc0927a-34f9-408a-df96-ea25702a9029"
      }
    },
    {
      "cell_type": "code",
      "execution_count": 7,
      "outputs": [
        {
          "output_type": "stream",
          "name": "stdout",
          "text": [
            "{'name': 'DENGBR22.dbc', 'disease': 'Dengue', 'year': 2022, 'size': '62.2 MB', 'last_update': '2023-08-21 03:20PM'}\n",
            "{'name': 'DENGBR23.dbc', 'disease': 'Dengue', 'year': 2023, 'size': '62.9 MB', 'last_update': '2023-08-21 03:20PM'}\n",
            "{'name': 'ZIKABR22.dbc', 'disease': 'Zika Vírus', 'year': 2022, 'size': '931.4 kB', 'last_update': '2023-08-23 10:10AM'}\n",
            "{'name': 'ZIKABR23.dbc', 'disease': 'Zika Vírus', 'year': 2023, 'size': '384.1 kB', 'last_update': '2023-08-23 10:11AM'}\n"
          ]
        }
      ],
      "source": [
        "for arq in arquivos:\n",
        "    print(sinan.describe(arq))\n"
      ],
      "metadata": {
        "ExecuteTime": {
          "end_time": "2023-11-30T13:28:15.201379967Z",
          "start_time": "2023-11-30T13:28:15.147996018Z"
        },
        "colab": {
          "base_uri": "https://localhost:8080/"
        },
        "id": "L4EwM4u_O7da",
        "outputId": "17bc8b7b-2d51-4389-b0e7-666297325939"
      }
    },
    {
      "cell_type": "code",
      "execution_count": 10,
      "outputs": [
        {
          "output_type": "stream",
          "name": "stderr",
          "text": [
            "\n",
            "  0%|          | 0/4 [00:00<?, ?it/s]\u001b[A\n",
            "  0%|          | 0.00/62.2M [00:00<?, ?B/s]\u001b[A\n",
            "  0%|          | 0.00/62.9M [00:00<?, ?B/s]\u001b[A\n",
            "DENGBR23.dbc:   0%|          | 0.00/62.9M [00:00<?, ?B/s]\u001b[A\n",
            "DENGBR23.dbc:   0%|          | 5.79k/62.9M [00:01<4:05:35, 4.27kB/s]\u001b[A\n",
            "DENGBR23.dbc:   0%|          | 14.0k/62.9M [00:01<1:32:41, 11.3kB/s]\u001b[A\n",
            "DENGBR23.dbc:   0%|          | 25.6k/62.9M [00:01<46:22, 22.6kB/s]  \u001b[A\n",
            "DENGBR23.dbc:   0%|          | 42.9k/62.9M [00:01<25:13, 41.5kB/s]\u001b[A\n",
            "DENGBR23.dbc:   0%|          | 69.0k/62.9M [00:01<14:25, 72.6kB/s]\u001b[A\n",
            "DENGBR23.dbc:   0%|          | 101k/62.9M [00:02<09:31, 110kB/s]  \u001b[A\n",
            "DENGBR23.dbc:   0%|          | 132k/62.9M [00:02<07:28, 140kB/s]\u001b[A\n",
            "DENGBR23.dbc:   0%|          | 181k/62.9M [00:02<05:14, 200kB/s]\u001b[A\n",
            "DENGBR23.dbc:   0%|          | 245k/62.9M [00:02<03:47, 276kB/s]\u001b[A\n",
            "DENGBR23.dbc:   1%|          | 327k/62.9M [00:02<02:48, 372kB/s]\u001b[A\n",
            "DENGBR23.dbc:   1%|          | 401k/62.9M [00:02<02:26, 426kB/s]\u001b[A\n",
            "DENGBR23.dbc:   1%|          | 518k/62.9M [00:02<01:51, 559kB/s]\u001b[A\n",
            "DENGBR23.dbc:   1%|          | 598k/62.9M [00:02<01:48, 572kB/s]\u001b[A\n",
            "DENGBR23.dbc:   1%|          | 729k/62.9M [00:03<01:30, 690kB/s]\u001b[A\n",
            "DENGBR23.dbc:   1%|▏         | 858k/62.9M [00:03<01:21, 761kB/s]\u001b[A\n",
            "DENGBR23.dbc:   2%|▏         | 991k/62.9M [00:03<01:14, 828kB/s]\u001b[A\n",
            "DENGBR23.dbc:   2%|▏         | 1.12M/62.9M [00:03<01:11, 868kB/s]\u001b[A\n",
            "DENGBR23.dbc:   2%|▏         | 1.25M/62.9M [00:03<01:08, 898kB/s]\u001b[A\n",
            "DENGBR23.dbc:   2%|▏         | 1.38M/62.9M [00:03<01:07, 915kB/s]\u001b[A\n",
            "DENGBR23.dbc:   2%|▏         | 1.52M/62.9M [00:03<01:06, 927kB/s]\u001b[A\n",
            "DENGBR23.dbc:   3%|▎         | 1.65M/62.9M [00:04<01:05, 938kB/s]\u001b[A\n",
            "DENGBR23.dbc:   3%|▎         | 1.78M/62.9M [00:04<01:04, 945kB/s]\u001b[A\n",
            "DENGBR23.dbc:   3%|▎         | 1.91M/62.9M [00:04<01:04, 952kB/s]\u001b[A\n",
            "DENGBR23.dbc:   3%|▎         | 2.04M/62.9M [00:04<01:03, 963kB/s]\u001b[A\n",
            "DENGBR23.dbc:   3%|▎         | 2.17M/62.9M [00:04<01:02, 968kB/s]\u001b[A\n",
            "DENGBR23.dbc:   4%|▎         | 2.30M/62.9M [00:04<01:02, 968kB/s]\u001b[A\n",
            "DENGBR23.dbc:   4%|▍         | 2.43M/62.9M [00:04<01:03, 952kB/s]\u001b[A\n",
            "DENGBR23.dbc:   4%|▍         | 2.56M/62.9M [00:04<01:02, 967kB/s]\u001b[A\n",
            "DENGBR22.parquet:  26%|██▋       | 600k/2.27M [01:20<02:53, 9.65kB/s]\n",
            "DENGBR23.dbc:   4%|▍         | 2.83M/62.9M [00:05<01:02, 967kB/s]\u001b[A\n",
            "DENGBR23.dbc:   5%|▍         | 2.95M/62.9M [00:05<01:02, 955kB/s]\u001b[A\n",
            "DENGBR23.dbc:   5%|▍         | 3.09M/62.9M [00:05<01:01, 968kB/s]\u001b[A\n",
            "DENGBR23.dbc:   5%|▌         | 3.22M/62.9M [00:05<01:02, 961kB/s]\u001b[A\n",
            "DENGBR23.dbc:   5%|▌         | 3.35M/62.9M [00:05<01:01, 965kB/s]\u001b[A\n",
            "DENGBR23.dbc:   6%|▌         | 3.48M/62.9M [00:05<01:01, 963kB/s]\u001b[A\n",
            "DENGBR23.dbc:   6%|▌         | 3.61M/62.9M [00:06<01:02, 948kB/s]\u001b[A\n",
            "DENGBR23.dbc:   6%|▌         | 3.74M/62.9M [00:06<01:01, 958kB/s]\u001b[A\n",
            "DENGBR23.dbc:   6%|▌         | 3.87M/62.9M [00:06<01:00, 969kB/s]\u001b[A\n",
            "DENGBR23.dbc:   6%|▋         | 4.00M/62.9M [00:06<01:01, 958kB/s]\u001b[A\n",
            "DENGBR23.dbc:   7%|▋         | 4.14M/62.9M [00:06<01:00, 965kB/s]\u001b[A\n",
            "DENGBR23.dbc:   7%|▋         | 4.27M/62.9M [00:06<01:00, 963kB/s]\u001b[A\n",
            "DENGBR23.dbc:   7%|▋         | 4.40M/62.9M [00:06<01:00, 965kB/s]\u001b[A\n",
            "DENGBR23.dbc:   7%|▋         | 4.53M/62.9M [00:07<01:00, 968kB/s]\u001b[A\n",
            "DENGBR23.dbc:   7%|▋         | 4.66M/62.9M [00:07<01:00, 964kB/s]\u001b[A\n",
            "DENGBR23.dbc:   8%|▊         | 4.79M/62.9M [00:07<01:01, 951kB/s]\u001b[A\n",
            "DENGBR23.dbc:   8%|▊         | 4.92M/62.9M [00:07<00:59, 968kB/s]\u001b[A\n",
            "DENGBR23.dbc:   8%|▊         | 5.05M/62.9M [00:07<00:59, 974kB/s]\u001b[A\n",
            "DENGBR23.dbc:   8%|▊         | 5.19M/62.9M [00:07<00:59, 965kB/s]\u001b[A\n",
            "DENGBR23.dbc:   8%|▊         | 5.32M/62.9M [00:07<00:59, 974kB/s]\u001b[A\n",
            "DENGBR23.dbc:   9%|▊         | 5.45M/62.9M [00:07<00:59, 970kB/s]\u001b[A\n",
            "DENGBR23.dbc:   9%|▉         | 5.58M/62.9M [00:08<00:59, 966kB/s]\u001b[A\n",
            "DENGBR23.dbc:   9%|▉         | 5.71M/62.9M [00:08<00:59, 967kB/s]\u001b[A\n",
            "DENGBR23.dbc:   9%|▉         | 5.84M/62.9M [00:08<00:59, 954kB/s]\u001b[A\n",
            "DENGBR23.dbc:   9%|▉         | 5.97M/62.9M [00:08<01:00, 949kB/s]\u001b[A\n",
            "DENGBR23.dbc:  10%|▉         | 6.10M/62.9M [00:08<00:59, 954kB/s]\u001b[A\n",
            "DENGBR23.dbc:  10%|▉         | 6.23M/62.9M [00:08<00:59, 958kB/s]\u001b[A\n",
            "DENGBR23.dbc:  10%|█         | 6.37M/62.9M [00:08<00:58, 960kB/s]\u001b[A\n",
            "DENGBR23.dbc:  10%|█         | 6.49M/62.9M [00:09<00:59, 950kB/s]\u001b[A\n",
            "DENGBR23.dbc:  11%|█         | 6.63M/62.9M [00:09<00:57, 972kB/s]\u001b[A\n",
            "DENGBR23.dbc:  11%|█         | 6.75M/62.9M [00:09<00:58, 958kB/s]\u001b[A\n",
            "DENGBR23.dbc:  11%|█         | 6.89M/62.9M [00:09<00:57, 976kB/s]\u001b[A\n",
            "DENGBR23.dbc:  11%|█         | 7.02M/62.9M [00:09<00:57, 974kB/s]\u001b[A\n",
            "DENGBR23.dbc:  11%|█▏        | 7.15M/62.9M [00:09<00:57, 969kB/s]\u001b[A\n",
            "DENGBR23.dbc:  12%|█▏        | 7.28M/62.9M [00:09<00:57, 972kB/s]\u001b[A\n",
            "DENGBR23.dbc:  12%|█▏        | 7.41M/62.9M [00:10<00:56, 979kB/s]\u001b[A\n",
            "DENGBR23.dbc:  12%|█▏        | 7.54M/62.9M [00:10<00:56, 974kB/s]\u001b[A\n",
            "DENGBR23.dbc:  12%|█▏        | 7.68M/62.9M [00:10<00:56, 973kB/s]\u001b[A\n",
            "DENGBR23.dbc:  12%|█▏        | 7.81M/62.9M [00:10<00:56, 969kB/s]\u001b[A\n",
            "DENGBR23.dbc:  13%|█▎        | 7.94M/62.9M [00:10<00:56, 967kB/s]\u001b[A\n",
            "DENGBR23.dbc:  13%|█▎        | 8.07M/62.9M [00:10<00:56, 963kB/s]\u001b[A\n",
            "DENGBR23.dbc:  13%|█▎        | 8.20M/62.9M [00:10<00:56, 964kB/s]\u001b[A\n",
            "DENGBR23.dbc:  13%|█▎        | 8.33M/62.9M [00:10<00:56, 971kB/s]\u001b[A\n",
            "DENGBR23.dbc:  13%|█▎        | 8.46M/62.9M [00:11<00:56, 956kB/s]\u001b[A\n",
            "DENGBR23.dbc:  14%|█▎        | 8.59M/62.9M [00:11<00:56, 969kB/s]\u001b[A\n",
            "DENGBR23.dbc:  14%|█▍        | 8.72M/62.9M [00:11<00:56, 965kB/s]\u001b[A\n",
            "DENGBR23.dbc:  14%|█▍        | 8.85M/62.9M [00:11<00:56, 952kB/s]\u001b[A\n",
            "DENGBR23.dbc:  14%|█▍        | 8.99M/62.9M [00:11<00:55, 967kB/s]\u001b[A\n",
            "DENGBR23.dbc:  14%|█▍        | 9.12M/62.9M [00:11<00:55, 966kB/s]\u001b[A\n",
            "DENGBR23.dbc:  15%|█▍        | 9.25M/62.9M [00:11<00:55, 965kB/s]\u001b[A\n",
            "DENGBR23.dbc:  15%|█▍        | 9.38M/62.9M [00:12<00:55, 964kB/s]\u001b[A\n",
            "DENGBR23.dbc:  15%|█▌        | 9.51M/62.9M [00:12<00:54, 972kB/s]\u001b[A\n",
            "DENGBR23.dbc:  15%|█▌        | 9.64M/62.9M [00:12<00:55, 962kB/s]\u001b[A\n",
            "DENGBR23.dbc:  16%|█▌        | 9.77M/62.9M [00:12<00:54, 977kB/s]\u001b[A\n",
            "DENGBR23.dbc:  16%|█▌        | 9.90M/62.9M [00:12<00:54, 973kB/s]\u001b[A\n",
            "DENGBR23.dbc:  16%|█▌        | 10.0M/62.9M [00:12<00:54, 970kB/s]\u001b[A\n",
            "DENGBR23.dbc:  16%|█▌        | 10.2M/62.9M [00:12<00:53, 978kB/s]\u001b[A\n",
            "DENGBR23.dbc:  16%|█▋        | 10.3M/62.9M [00:12<00:54, 973kB/s]\u001b[A\n",
            "DENGBR23.dbc:  17%|█▋        | 10.4M/62.9M [00:13<00:53, 979kB/s]\u001b[A\n",
            "DENGBR23.dbc:  17%|█▋        | 10.6M/62.9M [00:13<00:53, 975kB/s]\u001b[A\n",
            "DENGBR23.dbc:  17%|█▋        | 10.7M/62.9M [00:13<00:53, 972kB/s]\u001b[A\n",
            "DENGBR23.dbc:  17%|█▋        | 10.8M/62.9M [00:13<00:53, 966kB/s]\u001b[A\n",
            "DENGBR23.dbc:  17%|█▋        | 11.0M/62.9M [00:13<00:53, 964kB/s]\u001b[A\n",
            "DENGBR23.dbc:  18%|█▊        | 11.1M/62.9M [00:13<00:53, 965kB/s]\u001b[A\n",
            "DENGBR23.dbc:  18%|█▊        | 11.2M/62.9M [00:13<00:53, 963kB/s]\u001b[A\n",
            "DENGBR23.dbc:  18%|█▊        | 11.3M/62.9M [00:14<00:53, 964kB/s]\u001b[A\n",
            "DENGBR23.dbc:  18%|█▊        | 11.5M/62.9M [00:14<00:53, 964kB/s]\u001b[A\n",
            "DENGBR23.dbc:  18%|█▊        | 11.6M/62.9M [00:14<00:53, 964kB/s]\u001b[A\n",
            "DENGBR23.dbc:  19%|█▊        | 11.7M/62.9M [00:14<00:53, 964kB/s]\u001b[A\n",
            "DENGBR23.dbc:  19%|█▉        | 11.9M/62.9M [00:14<00:53, 962kB/s]\u001b[A\n",
            "DENGBR23.dbc:  19%|█▉        | 12.0M/62.9M [00:14<00:52, 962kB/s]\u001b[A\n",
            "DENGBR23.dbc:  19%|█▉        | 12.1M/62.9M [00:14<00:52, 960kB/s]\u001b[A\n",
            "DENGBR23.dbc:  19%|█▉        | 12.3M/62.9M [00:15<00:52, 960kB/s]\u001b[A\n",
            "DENGBR23.dbc:  20%|█▉        | 12.4M/62.9M [00:15<00:52, 969kB/s]\u001b[A\n",
            "DENGBR23.dbc:  20%|█▉        | 12.5M/62.9M [00:15<00:56, 887kB/s]\u001b[A\n",
            "DENGBR23.dbc:  20%|██        | 12.6M/62.9M [00:15<01:00, 838kB/s]\u001b[A\n",
            "DENGBR23.dbc:  20%|██        | 12.7M/62.9M [00:15<00:57, 873kB/s]\u001b[A\n",
            "DENGBR23.dbc:  20%|██        | 12.9M/62.9M [00:16<01:50, 455kB/s]\u001b[A\n",
            "DENGBR23.dbc:  21%|██        | 12.9M/62.9M [00:16<02:42, 308kB/s]\u001b[A\n",
            "DENGBR23.dbc:  21%|██        | 13.0M/62.9M [00:16<02:34, 322kB/s]\u001b[A\n",
            "DENGBR23.dbc:  21%|██        | 13.0M/62.9M [00:16<02:27, 338kB/s]\u001b[A\n",
            "DENGBR23.dbc:  21%|██        | 13.1M/62.9M [00:17<02:18, 359kB/s]\u001b[A\n",
            "DENGBR23.dbc:  21%|██        | 13.2M/62.9M [00:17<01:55, 429kB/s]\u001b[A\n",
            "DENGBR23.dbc:  21%|██        | 13.3M/62.9M [00:17<01:34, 527kB/s]\u001b[A\n",
            "DENGBR23.dbc:  21%|██▏       | 13.4M/62.9M [00:17<01:29, 556kB/s]\u001b[A\n",
            "DENGBR23.dbc:  21%|██▏       | 13.5M/62.9M [00:17<01:15, 656kB/s]\u001b[A\n",
            "DENGBR23.dbc:  22%|██▏       | 13.6M/62.9M [00:17<01:05, 750kB/s]\u001b[A\n",
            "DENGBR23.dbc:  22%|██▏       | 13.8M/62.9M [00:17<01:00, 817kB/s]\u001b[A\n",
            "DENGBR23.dbc:  22%|██▏       | 13.9M/62.9M [00:18<00:57, 859kB/s]\u001b[A\n",
            "DENGBR23.dbc:  22%|██▏       | 14.0M/62.9M [00:18<00:55, 888kB/s]\u001b[A\n",
            "DENGBR23.dbc:  23%|██▎       | 14.2M/62.9M [00:18<00:53, 911kB/s]\u001b[A\n",
            "DENGBR23.dbc:  23%|██▎       | 14.3M/62.9M [00:18<00:52, 926kB/s]\u001b[A\n",
            "DENGBR23.dbc:  23%|██▎       | 14.4M/62.9M [00:18<00:51, 937kB/s]\u001b[A\n",
            "DENGBR23.dbc:  23%|██▎       | 14.6M/62.9M [00:18<00:51, 944kB/s]\u001b[A\n",
            "DENGBR23.dbc:  23%|██▎       | 14.7M/62.9M [00:18<00:50, 951kB/s]\u001b[A\n",
            "DENGBR23.dbc:  24%|██▎       | 14.8M/62.9M [00:18<00:50, 952kB/s]\u001b[A\n",
            "DENGBR23.dbc:  24%|██▍       | 15.0M/62.9M [00:19<00:49, 963kB/s]\u001b[A\n",
            "DENGBR23.dbc:  24%|██▍       | 15.1M/62.9M [00:19<00:50, 951kB/s]\u001b[A\n",
            "DENGBR23.dbc:  24%|██▍       | 15.2M/62.9M [00:19<00:49, 964kB/s]\u001b[A\n",
            "DENGBR23.dbc:  24%|██▍       | 15.3M/62.9M [00:19<00:49, 967kB/s]\u001b[A\n",
            "DENGBR23.dbc:  25%|██▍       | 15.5M/62.9M [00:19<00:48, 970kB/s]\u001b[A\n",
            "DENGBR23.dbc:  25%|██▍       | 15.6M/62.9M [00:19<00:48, 969kB/s]\u001b[A\n",
            "DENGBR23.dbc:  25%|██▌       | 15.7M/62.9M [00:19<00:48, 966kB/s]\u001b[A\n",
            "DENGBR23.dbc:  25%|██▌       | 15.9M/62.9M [00:20<00:48, 961kB/s]\u001b[A\n",
            "DENGBR23.dbc:  25%|██▌       | 16.0M/62.9M [00:20<00:48, 970kB/s]\u001b[A\n",
            "DENGBR23.dbc:  26%|██▌       | 16.1M/62.9M [00:20<00:48, 967kB/s]\u001b[A\n",
            "DENGBR23.dbc:  26%|██▌       | 16.3M/62.9M [00:20<00:48, 952kB/s]\u001b[A\n",
            "DENGBR23.dbc:  26%|██▌       | 16.4M/62.9M [00:20<00:47, 969kB/s]\u001b[A\n",
            "DENGBR23.dbc:  26%|██▋       | 16.5M/62.9M [00:20<00:47, 967kB/s]\u001b[A\n",
            "DENGBR23.dbc:  26%|██▋       | 16.6M/62.9M [00:20<00:48, 960kB/s]\u001b[A\n",
            "DENGBR23.dbc:  27%|██▋       | 16.8M/62.9M [00:21<00:48, 959kB/s]\u001b[A\n",
            "DENGBR23.dbc:  27%|██▋       | 16.9M/62.9M [00:21<00:48, 956kB/s]\u001b[A\n",
            "DENGBR23.dbc:  27%|██▋       | 17.0M/62.9M [00:21<00:47, 974kB/s]\u001b[A\n",
            "DENGBR23.dbc:  27%|██▋       | 17.2M/62.9M [00:21<00:47, 968kB/s]\u001b[A\n",
            "DENGBR23.dbc:  28%|██▊       | 17.3M/62.9M [00:21<00:47, 969kB/s]\u001b[A\n",
            "DENGBR23.dbc:  28%|██▊       | 17.4M/62.9M [00:21<00:46, 970kB/s]\u001b[A\n",
            "DENGBR23.dbc:  28%|██▊       | 17.6M/62.9M [00:21<00:46, 970kB/s]\u001b[A\n",
            "DENGBR23.dbc:  28%|██▊       | 17.7M/62.9M [00:21<00:46, 976kB/s]\u001b[A\n",
            "DENGBR23.dbc:  28%|██▊       | 17.8M/62.9M [00:22<00:46, 969kB/s]\u001b[A\n",
            "DENGBR23.dbc:  29%|██▊       | 18.0M/62.9M [00:22<00:46, 967kB/s]\u001b[A\n",
            "DENGBR23.dbc:  29%|██▉       | 18.1M/62.9M [00:22<00:45, 975kB/s]\u001b[A\n",
            "DENGBR23.dbc:  29%|██▉       | 18.2M/62.9M [00:22<00:46, 971kB/s]\u001b[A\n",
            "DENGBR23.dbc:  29%|██▉       | 18.4M/62.9M [00:22<00:46, 955kB/s]\u001b[A\n",
            "DENGBR23.dbc:  29%|██▉       | 18.5M/62.9M [00:22<00:46, 959kB/s]\u001b[A\n",
            "DENGBR23.dbc:  30%|██▉       | 18.6M/62.9M [00:22<00:45, 974kB/s]\u001b[A\n",
            "DENGBR23.dbc:  30%|██▉       | 18.7M/62.9M [00:23<00:46, 956kB/s]\u001b[A\n",
            "DENGBR23.dbc:  30%|███       | 18.9M/62.9M [00:23<00:45, 969kB/s]\u001b[A\n",
            "DENGBR23.dbc:  30%|███       | 19.0M/62.9M [00:23<00:45, 966kB/s]\u001b[A\n",
            "DENGBR23.dbc:  30%|███       | 19.1M/62.9M [00:23<00:45, 966kB/s]\u001b[A\n",
            "DENGBR23.dbc:  31%|███       | 19.3M/62.9M [00:23<00:45, 960kB/s]\u001b[A\n",
            "DENGBR23.dbc:  31%|███       | 19.4M/62.9M [00:23<00:44, 978kB/s]\u001b[A\n",
            "DENGBR23.dbc:  31%|███       | 19.5M/62.9M [00:23<00:44, 969kB/s]\u001b[A\n",
            "DENGBR23.dbc:  31%|███▏      | 19.7M/62.9M [00:23<00:44, 977kB/s]\u001b[A\n",
            "DENGBR23.dbc:  31%|███▏      | 19.8M/62.9M [00:24<00:44, 975kB/s]\u001b[A\n",
            "DENGBR23.dbc:  32%|███▏      | 19.9M/62.9M [00:24<00:43, 981kB/s]\u001b[A\n",
            "DENGBR23.dbc:  32%|███▏      | 20.1M/62.9M [00:24<00:43, 977kB/s]\u001b[A\n",
            "DENGBR23.dbc:  32%|███▏      | 20.2M/62.9M [00:24<00:43, 976kB/s]\u001b[A\n",
            "DENGBR23.dbc:  32%|███▏      | 20.3M/62.9M [00:24<00:43, 974kB/s]\u001b[A\n",
            "DENGBR23.dbc:  33%|███▎      | 20.4M/62.9M [00:24<00:44, 960kB/s]\u001b[A\n",
            "DENGBR23.dbc:  33%|███▎      | 20.6M/62.9M [00:24<00:43, 978kB/s]\u001b[A\n",
            "DENGBR23.dbc:  33%|███▎      | 20.7M/62.9M [00:25<00:43, 975kB/s]\u001b[A\n",
            "DENGBR23.dbc:  33%|███▎      | 20.8M/62.9M [00:25<00:43, 974kB/s]\u001b[A\n",
            "DENGBR23.dbc:  33%|███▎      | 21.0M/62.9M [00:25<00:43, 974kB/s]\u001b[A\n",
            "DENGBR23.dbc:  34%|███▎      | 21.1M/62.9M [00:25<00:43, 971kB/s]\u001b[A\n",
            "DENGBR23.dbc:  34%|███▍      | 21.2M/62.9M [00:25<00:42, 971kB/s]\u001b[A\n",
            "DENGBR23.dbc:  34%|███▍      | 21.4M/62.9M [00:25<00:42, 970kB/s]\u001b[A\n",
            "DENGBR23.dbc:  34%|███▍      | 21.5M/62.9M [00:25<00:42, 970kB/s]\u001b[A\n",
            "DENGBR23.dbc:  34%|███▍      | 21.6M/62.9M [00:26<00:42, 967kB/s]\u001b[A\n",
            "DENGBR23.dbc:  35%|███▍      | 21.8M/62.9M [00:26<00:42, 966kB/s]\u001b[A\n",
            "DENGBR23.dbc:  35%|███▍      | 21.9M/62.9M [00:26<00:42, 967kB/s]\u001b[A\n",
            "DENGBR23.dbc:  35%|███▌      | 22.0M/62.9M [00:26<00:55, 742kB/s]\u001b[A\n",
            "DENGBR23.dbc:  35%|███▌      | 22.1M/62.9M [00:26<00:55, 734kB/s]\u001b[A\n",
            "DENGBR23.dbc:  35%|███▌      | 22.2M/62.9M [00:26<00:58, 699kB/s]\u001b[A\n",
            "DENGBR23.dbc:  35%|███▌      | 22.3M/62.9M [00:26<01:01, 665kB/s]\u001b[A\n",
            "DENGBR23.dbc:  36%|███▌      | 22.4M/62.9M [00:27<01:02, 649kB/s]\u001b[A\n",
            "DENGBR23.dbc:  36%|███▌      | 22.5M/62.9M [00:27<00:55, 724kB/s]\u001b[A\n",
            "DENGBR23.dbc:  36%|███▌      | 22.6M/62.9M [00:27<00:49, 809kB/s]\u001b[A\n",
            "DENGBR23.dbc:  36%|███▌      | 22.7M/62.9M [00:27<00:47, 854kB/s]\u001b[A\n",
            "DENGBR23.dbc:  36%|███▋      | 22.9M/62.9M [00:27<00:45, 876kB/s]\u001b[A\n",
            "DENGBR23.dbc:  37%|███▋      | 23.0M/62.9M [00:27<00:44, 901kB/s]\u001b[A\n",
            "DENGBR23.dbc:  37%|███▋      | 23.1M/62.9M [00:27<00:42, 928kB/s]\u001b[A\n",
            "DENGBR23.dbc:  37%|███▋      | 23.3M/62.9M [00:28<00:42, 936kB/s]\u001b[A\n",
            "DENGBR23.dbc:  37%|███▋      | 23.4M/62.9M [00:28<00:42, 939kB/s]\u001b[A\n",
            "DENGBR23.dbc:  37%|███▋      | 23.5M/62.9M [00:28<00:41, 943kB/s]\u001b[A\n",
            "DENGBR23.dbc:  38%|███▊      | 23.7M/62.9M [00:28<00:40, 960kB/s]\u001b[A\n",
            "DENGBR23.dbc:  38%|███▊      | 23.8M/62.9M [00:28<00:40, 962kB/s]\u001b[A\n",
            "DENGBR23.dbc:  38%|███▊      | 23.9M/62.9M [00:28<00:40, 960kB/s]\u001b[A\n",
            "DENGBR23.dbc:  38%|███▊      | 24.1M/62.9M [00:28<00:40, 961kB/s]\u001b[A\n",
            "DENGBR23.dbc:  38%|███▊      | 24.2M/62.9M [00:28<00:40, 956kB/s]\u001b[A\n",
            "DENGBR23.dbc:  39%|███▊      | 24.3M/62.9M [00:29<00:40, 958kB/s]\u001b[A\n",
            "DENGBR23.dbc:  39%|███▉      | 24.5M/62.9M [00:29<00:40, 960kB/s]\u001b[A\n",
            "DENGBR23.dbc:  39%|███▉      | 24.6M/62.9M [00:29<00:39, 962kB/s]\u001b[A\n",
            "DENGBR23.dbc:  39%|███▉      | 24.7M/62.9M [00:29<00:39, 964kB/s]\u001b[A\n",
            "DENGBR23.dbc:  39%|███▉      | 24.8M/62.9M [00:29<00:39, 964kB/s]\u001b[A\n",
            "DENGBR23.dbc:  40%|███▉      | 25.0M/62.9M [00:29<00:39, 961kB/s]\u001b[A\n",
            "DENGBR23.dbc:  40%|███▉      | 25.1M/62.9M [00:29<00:38, 970kB/s]\u001b[A\n",
            "DENGBR23.dbc:  40%|████      | 25.2M/62.9M [00:30<00:39, 948kB/s]\u001b[A\n",
            "DENGBR23.dbc:  40%|████      | 25.4M/62.9M [00:30<00:38, 970kB/s]\u001b[A\n",
            "DENGBR23.dbc:  41%|████      | 25.5M/62.9M [00:30<00:39, 957kB/s]\u001b[A\n",
            "DENGBR23.dbc:  41%|████      | 25.6M/62.9M [00:30<00:38, 976kB/s]\u001b[A\n",
            "DENGBR23.dbc:  41%|████      | 25.8M/62.9M [00:30<00:37, 981kB/s]\u001b[A\n",
            "DENGBR23.dbc:  41%|████      | 25.9M/62.9M [00:30<00:37, 977kB/s]\u001b[A\n",
            "DENGBR23.dbc:  41%|████▏     | 26.0M/62.9M [00:30<00:37, 973kB/s]\u001b[A\n",
            "DENGBR23.dbc:  42%|████▏     | 26.2M/62.9M [00:31<00:37, 972kB/s]\u001b[A\n",
            "DENGBR23.dbc:  42%|████▏     | 26.3M/62.9M [00:31<00:38, 964kB/s]\u001b[A\n",
            "DENGBR23.dbc:  42%|████▏     | 26.4M/62.9M [00:31<00:37, 973kB/s]\u001b[A\n",
            "DENGBR23.dbc:  42%|████▏     | 26.6M/62.9M [00:31<00:37, 980kB/s]\u001b[A\n",
            "DENGBR23.dbc:  42%|████▏     | 26.7M/62.9M [00:31<00:37, 971kB/s]\u001b[A\n",
            "DENGBR23.dbc:  43%|████▎     | 26.8M/62.9M [00:31<00:36, 978kB/s]\u001b[A\n",
            "DENGBR23.dbc:  43%|████▎     | 26.9M/62.9M [00:31<00:37, 971kB/s]\u001b[A\n",
            "DENGBR23.dbc:  43%|████▎     | 27.1M/62.9M [00:31<00:36, 975kB/s]\u001b[A\n",
            "DENGBR23.dbc:  43%|████▎     | 27.2M/62.9M [00:32<00:36, 980kB/s]\u001b[A\n",
            "DENGBR23.dbc:  43%|████▎     | 27.3M/62.9M [00:32<00:36, 975kB/s]\u001b[A\n",
            "DENGBR23.dbc:  44%|████▎     | 27.5M/62.9M [00:32<00:36, 972kB/s]\u001b[A\n",
            "DENGBR23.dbc:  44%|████▍     | 27.6M/62.9M [00:32<00:36, 978kB/s]\u001b[A\n",
            "DENGBR23.dbc:  44%|████▍     | 27.7M/62.9M [00:32<00:36, 971kB/s]\u001b[A\n",
            "DENGBR23.dbc:  44%|████▍     | 27.9M/62.9M [00:32<00:36, 965kB/s]\u001b[A\n",
            "DENGBR23.dbc:  44%|████▍     | 28.0M/62.9M [00:32<00:36, 963kB/s]\u001b[A\n",
            "DENGBR23.dbc:  45%|████▍     | 28.1M/62.9M [00:33<00:35, 971kB/s]\u001b[A\n",
            "DENGBR23.dbc:  45%|████▍     | 28.3M/62.9M [00:33<00:35, 964kB/s]\u001b[A\n",
            "DENGBR23.dbc:  45%|████▌     | 28.4M/62.9M [00:33<00:36, 951kB/s]\u001b[A\n",
            "DENGBR23.dbc:  45%|████▌     | 28.5M/62.9M [00:33<00:35, 968kB/s]\u001b[A\n",
            "DENGBR23.dbc:  46%|████▌     | 28.6M/62.9M [00:33<00:35, 966kB/s]\u001b[A\n",
            "DENGBR23.dbc:  46%|████▌     | 28.8M/62.9M [00:33<00:35, 961kB/s]\u001b[A\n",
            "DENGBR23.dbc:  46%|████▌     | 28.9M/62.9M [00:33<00:35, 964kB/s]\u001b[A\n",
            "DENGBR23.dbc:  46%|████▌     | 29.0M/62.9M [00:34<00:34, 971kB/s]\u001b[A\n",
            "DENGBR23.dbc:  46%|████▋     | 29.2M/62.9M [00:34<00:34, 969kB/s]\u001b[A\n",
            "DENGBR23.dbc:  47%|████▋     | 29.3M/62.9M [00:34<00:34, 976kB/s]\u001b[A\n",
            "DENGBR23.dbc:  47%|████▋     | 29.4M/62.9M [00:34<00:34, 981kB/s]\u001b[A\n",
            "DENGBR23.dbc:  47%|████▋     | 29.6M/62.9M [00:34<00:34, 971kB/s]\u001b[A\n",
            "DENGBR23.dbc:  47%|████▋     | 29.7M/62.9M [00:34<00:33, 978kB/s]\u001b[A\n",
            "DENGBR23.dbc:  47%|████▋     | 29.8M/62.9M [00:34<00:33, 975kB/s]\u001b[A\n",
            "DENGBR23.dbc:  48%|████▊     | 30.0M/62.9M [00:34<00:33, 973kB/s]\u001b[A\n",
            "DENGBR23.dbc:  48%|████▊     | 30.1M/62.9M [00:35<00:33, 971kB/s]\u001b[A\n",
            "DENGBR23.dbc:  48%|████▊     | 30.2M/62.9M [00:35<01:06, 489kB/s]\u001b[A\n",
            "DENGBR23.dbc:  48%|████▊     | 30.3M/62.9M [00:36<01:38, 331kB/s]\u001b[A\n",
            "DENGBR23.dbc:  48%|████▊     | 30.4M/62.9M [00:36<01:33, 349kB/s]\u001b[A\n",
            "DENGBR23.dbc:  48%|████▊     | 30.4M/62.9M [00:36<01:30, 359kB/s]\u001b[A\n",
            "DENGBR23.dbc:  48%|████▊     | 30.5M/62.9M [00:36<01:21, 396kB/s]\u001b[A\n",
            "DENGBR23.dbc:  49%|████▊     | 30.6M/62.9M [00:36<01:06, 484kB/s]\u001b[A\n",
            "DENGBR23.dbc:  49%|████▉     | 30.7M/62.9M [00:36<01:00, 529kB/s]\u001b[A\n",
            "DENGBR23.dbc:  49%|████▉     | 30.8M/62.9M [00:36<00:50, 640kB/s]\u001b[A\n",
            "DENGBR23.dbc:  49%|████▉     | 30.9M/62.9M [00:37<00:44, 713kB/s]\u001b[A\n",
            "DENGBR23.dbc:  49%|████▉     | 31.1M/62.9M [00:37<00:40, 786kB/s]\u001b[A\n",
            "DENGBR23.dbc:  50%|████▉     | 31.2M/62.9M [00:37<00:37, 855kB/s]\u001b[A\n",
            "DENGBR23.dbc:  50%|████▉     | 31.3M/62.9M [00:37<00:35, 888kB/s]\u001b[A\n",
            "DENGBR23.dbc:  50%|█████     | 31.5M/62.9M [00:37<00:34, 913kB/s]\u001b[A\n",
            "DENGBR23.dbc:  50%|█████     | 31.6M/62.9M [00:37<00:33, 931kB/s]\u001b[A\n",
            "DENGBR23.dbc:  50%|█████     | 31.7M/62.9M [00:37<00:33, 942kB/s]\u001b[A\n",
            "DENGBR23.dbc:  51%|█████     | 31.9M/62.9M [00:38<00:33, 938kB/s]\u001b[A\n",
            "DENGBR23.dbc:  51%|█████     | 32.0M/62.9M [00:38<00:32, 962kB/s]\u001b[A\n",
            "DENGBR23.dbc:  51%|█████     | 32.1M/62.9M [00:38<00:31, 965kB/s]\u001b[A\n",
            "DENGBR23.dbc:  51%|█████▏    | 32.3M/62.9M [00:38<00:31, 969kB/s]\u001b[A\n",
            "DENGBR23.dbc:  51%|█████▏    | 32.4M/62.9M [00:38<00:31, 969kB/s]\u001b[A\n",
            "DENGBR23.dbc:  52%|█████▏    | 32.5M/62.9M [00:38<00:31, 969kB/s]\u001b[A\n",
            "DENGBR23.dbc:  52%|█████▏    | 32.6M/62.9M [00:38<00:31, 967kB/s]\u001b[A\n",
            "DENGBR23.dbc:  52%|█████▏    | 32.8M/62.9M [00:39<00:31, 956kB/s]\u001b[A\n",
            "DENGBR23.dbc:  52%|█████▏    | 32.9M/62.9M [00:39<00:31, 953kB/s]\u001b[A\n",
            "DENGBR23.dbc:  53%|█████▎    | 33.0M/62.9M [00:39<00:30, 970kB/s]\u001b[A\n",
            "DENGBR23.dbc:  53%|█████▎    | 33.2M/62.9M [00:39<00:30, 965kB/s]\u001b[A\n",
            "DENGBR23.dbc:  53%|█████▎    | 33.3M/62.9M [00:39<00:30, 965kB/s]\u001b[A\n",
            "DENGBR23.dbc:  53%|█████▎    | 33.4M/62.9M [00:39<00:30, 968kB/s]\u001b[A\n",
            "DENGBR23.dbc:  53%|█████▎    | 33.6M/62.9M [00:39<00:30, 970kB/s]\u001b[A\n",
            "DENGBR23.dbc:  54%|█████▎    | 33.7M/62.9M [00:39<00:29, 976kB/s]\u001b[A\n",
            "DENGBR23.dbc:  54%|█████▍    | 33.8M/62.9M [00:40<00:30, 965kB/s]\u001b[A\n",
            "DENGBR23.dbc:  54%|█████▍    | 34.0M/62.9M [00:40<00:29, 974kB/s]\u001b[A\n",
            "DENGBR23.dbc:  54%|█████▍    | 34.1M/62.9M [00:40<00:29, 970kB/s]\u001b[A\n",
            "DENGBR23.dbc:  54%|█████▍    | 34.2M/62.9M [00:40<00:29, 969kB/s]\u001b[A\n",
            "DENGBR23.dbc:  55%|█████▍    | 34.3M/62.9M [00:40<00:29, 955kB/s]\u001b[A\n",
            "DENGBR23.dbc:  55%|█████▍    | 34.5M/62.9M [00:40<00:29, 974kB/s]\u001b[A\n",
            "DENGBR23.dbc:  55%|█████▌    | 34.6M/62.9M [00:40<00:28, 979kB/s]\u001b[A\n",
            "DENGBR23.dbc:  55%|█████▌    | 34.7M/62.9M [00:41<00:28, 977kB/s]\u001b[A\n",
            "DENGBR23.dbc:  55%|█████▌    | 34.9M/62.9M [00:41<00:28, 974kB/s]\u001b[A\n",
            "DENGBR23.dbc:  56%|█████▌    | 35.0M/62.9M [00:41<00:28, 980kB/s]\u001b[A\n",
            "DENGBR23.dbc:  56%|█████▌    | 35.1M/62.9M [00:41<00:28, 976kB/s]\u001b[A\n",
            "DENGBR23.dbc:  56%|█████▌    | 35.3M/62.9M [00:41<00:28, 972kB/s]\u001b[A\n",
            "DENGBR23.dbc:  56%|█████▋    | 35.4M/62.9M [00:41<00:28, 969kB/s]\u001b[A\n",
            "DENGBR23.dbc:  56%|█████▋    | 35.5M/62.9M [00:41<00:28, 969kB/s]\u001b[A\n",
            "DENGBR23.dbc:  57%|█████▋    | 35.7M/62.9M [00:41<00:28, 950kB/s]\u001b[A\n",
            "DENGBR23.dbc:  57%|█████▋    | 35.8M/62.9M [00:42<00:28, 952kB/s]\u001b[A\n",
            "DENGBR23.dbc:  57%|█████▋    | 35.9M/62.9M [00:42<00:27, 971kB/s]\u001b[A\n",
            "DENGBR23.dbc:  57%|█████▋    | 36.0M/62.9M [00:42<00:28, 953kB/s]\u001b[A\n",
            "DENGBR23.dbc:  58%|█████▊    | 36.2M/62.9M [00:42<00:27, 972kB/s]\u001b[A\n",
            "DENGBR23.dbc:  58%|█████▊    | 36.3M/62.9M [00:42<00:27, 966kB/s]\u001b[A\n",
            "DENGBR23.dbc:  58%|█████▊    | 36.4M/62.9M [00:42<00:27, 959kB/s]\u001b[A\n",
            "DENGBR23.dbc:  58%|█████▊    | 36.6M/62.9M [00:42<00:27, 965kB/s]\u001b[A\n",
            "DENGBR23.dbc:  58%|█████▊    | 36.7M/62.9M [00:43<00:27, 951kB/s]\u001b[A\n",
            "DENGBR23.dbc:  59%|█████▊    | 36.8M/62.9M [00:43<00:27, 957kB/s]\u001b[A\n",
            "DENGBR23.dbc:  59%|█████▉    | 37.0M/62.9M [00:43<00:26, 973kB/s]\u001b[A\n",
            "DENGBR23.dbc:  59%|█████▉    | 37.1M/62.9M [00:43<00:26, 964kB/s]\u001b[A\n",
            "DENGBR23.dbc:  59%|█████▉    | 37.2M/62.9M [00:43<00:27, 948kB/s]\u001b[A\n",
            "DENGBR23.dbc:  59%|█████▉    | 37.4M/62.9M [00:43<00:26, 972kB/s]\u001b[A\n",
            "DENGBR23.dbc:  60%|█████▉    | 37.5M/62.9M [00:43<00:26, 973kB/s]\u001b[A\n",
            "DENGBR23.dbc:  60%|█████▉    | 37.6M/62.9M [00:44<00:26, 966kB/s]\u001b[A\n",
            "DENGBR23.dbc:  60%|██████    | 37.8M/62.9M [00:44<00:26, 958kB/s]\u001b[A\n",
            "DENGBR23.dbc:  60%|██████    | 37.9M/62.9M [00:44<00:25, 976kB/s]\u001b[A\n",
            "DENGBR23.dbc:  60%|██████    | 38.0M/62.9M [00:44<00:25, 975kB/s]\u001b[A\n",
            "DENGBR23.dbc:  61%|██████    | 38.2M/62.9M [00:44<00:25, 974kB/s]\u001b[A\n",
            "DENGBR23.dbc:  61%|██████    | 38.3M/62.9M [00:44<00:25, 963kB/s]\u001b[A\n",
            "DENGBR23.dbc:  61%|██████    | 38.4M/62.9M [00:44<00:25, 973kB/s]\u001b[A\n",
            "DENGBR23.dbc:  61%|██████▏   | 38.5M/62.9M [00:44<00:24, 978kB/s]\u001b[A\n",
            "DENGBR23.dbc:  61%|██████▏   | 38.7M/62.9M [00:45<00:24, 976kB/s]\u001b[A\n",
            "DENGBR23.dbc:  62%|██████▏   | 38.8M/62.9M [00:45<00:24, 972kB/s]\u001b[A\n",
            "DENGBR23.dbc:  62%|██████▏   | 38.9M/62.9M [00:45<00:24, 967kB/s]\u001b[A\n",
            "DENGBR23.dbc:  62%|██████▏   | 39.1M/62.9M [00:45<00:24, 975kB/s]\u001b[A\n",
            "DENGBR23.dbc:  62%|██████▏   | 39.2M/62.9M [00:45<00:24, 971kB/s]\u001b[A\n",
            "DENGBR23.dbc:  63%|██████▎   | 39.3M/62.9M [00:45<00:24, 962kB/s]\u001b[A\n",
            "DENGBR23.dbc:  63%|██████▎   | 39.5M/62.9M [00:45<00:24, 950kB/s]\u001b[A\n",
            "DENGBR23.dbc:  63%|██████▎   | 39.6M/62.9M [00:46<00:24, 955kB/s]\u001b[A\n",
            "DENGBR23.dbc:  63%|██████▎   | 39.7M/62.9M [00:46<00:23, 971kB/s]\u001b[A\n",
            "DENGBR23.dbc:  63%|██████▎   | 39.9M/62.9M [00:46<00:23, 964kB/s]\u001b[A\n",
            "DENGBR23.dbc:  64%|██████▎   | 40.0M/62.9M [00:46<00:23, 957kB/s]\u001b[A\n",
            "DENGBR23.dbc:  64%|██████▍   | 40.1M/62.9M [00:46<00:23, 960kB/s]\u001b[A\n",
            "DENGBR23.dbc:  64%|██████▍   | 40.2M/62.9M [00:46<00:23, 975kB/s]\u001b[A\n",
            "DENGBR23.dbc:  64%|██████▍   | 40.4M/62.9M [00:46<00:23, 973kB/s]\u001b[A\n",
            "DENGBR23.dbc:  64%|██████▍   | 40.5M/62.9M [00:46<00:23, 972kB/s]\u001b[A\n",
            "DENGBR23.dbc:  65%|██████▍   | 40.6M/62.9M [00:47<00:22, 972kB/s]\u001b[A\n",
            "DENGBR23.dbc:  65%|██████▍   | 40.8M/62.9M [00:47<00:22, 978kB/s]\u001b[A\n",
            "DENGBR23.dbc:  65%|██████▌   | 40.9M/62.9M [00:47<00:22, 964kB/s]\u001b[A\n",
            "DENGBR23.dbc:  65%|██████▌   | 41.0M/62.9M [00:47<00:22, 967kB/s]\u001b[A\n",
            "DENGBR23.dbc:  65%|██████▌   | 41.2M/62.9M [00:47<00:22, 981kB/s]\u001b[A\n",
            "DENGBR23.dbc:  66%|██████▌   | 41.3M/62.9M [00:48<00:43, 500kB/s]\u001b[A\n",
            "DENGBR23.dbc:  66%|██████▌   | 41.4M/62.9M [00:48<01:03, 337kB/s]\u001b[A\n",
            "DENGBR23.dbc:  66%|██████▌   | 41.4M/62.9M [00:48<01:01, 352kB/s]\u001b[A\n",
            "DENGBR23.dbc:  66%|██████▌   | 41.5M/62.9M [00:49<00:58, 367kB/s]\u001b[A\n",
            "DENGBR23.dbc:  66%|██████▌   | 41.5M/62.9M [00:49<00:57, 374kB/s]\u001b[A\n",
            "DENGBR23.dbc:  66%|██████▌   | 41.6M/62.9M [00:49<00:49, 427kB/s]\u001b[A\n",
            "DENGBR23.dbc:  66%|██████▋   | 41.7M/62.9M [00:49<00:38, 543kB/s]\u001b[A\n",
            "DENGBR23.dbc:  66%|██████▋   | 41.8M/62.9M [00:49<00:38, 542kB/s]\u001b[A\n",
            "DENGBR23.dbc:  67%|██████▋   | 42.0M/62.9M [00:49<00:31, 668kB/s]\u001b[A\n",
            "DENGBR23.dbc:  67%|██████▋   | 42.1M/62.9M [00:49<00:28, 740kB/s]\u001b[A\n",
            "DENGBR23.dbc:  67%|██████▋   | 42.2M/62.9M [00:49<00:25, 801kB/s]\u001b[A\n",
            "DENGBR23.dbc:  67%|██████▋   | 42.3M/62.9M [00:50<00:23, 864kB/s]\u001b[A\n",
            "DENGBR23.dbc:  68%|██████▊   | 42.5M/62.9M [00:50<00:22, 892kB/s]\u001b[A\n",
            "DENGBR23.dbc:  68%|██████▊   | 42.6M/62.9M [00:50<00:22, 898kB/s]\u001b[A\n",
            "DENGBR23.dbc:  68%|██████▊   | 42.7M/62.9M [00:50<00:21, 931kB/s]\u001b[A\n",
            "DENGBR23.dbc:  68%|██████▊   | 42.9M/62.9M [00:50<00:21, 927kB/s]\u001b[A\n",
            "DENGBR23.dbc:  68%|██████▊   | 43.0M/62.9M [00:50<00:21, 945kB/s]\u001b[A\n",
            "DENGBR23.dbc:  69%|██████▊   | 43.1M/62.9M [00:50<00:20, 958kB/s]\u001b[A\n",
            "DENGBR23.dbc:  69%|██████▉   | 43.3M/62.9M [00:51<00:20, 960kB/s]\u001b[A\n",
            "DENGBR23.dbc:  69%|██████▉   | 43.4M/62.9M [00:51<00:20, 961kB/s]\u001b[A\n",
            "DENGBR23.dbc:  69%|██████▉   | 43.5M/62.9M [00:51<00:19, 970kB/s]\u001b[A\n",
            "DENGBR23.dbc:  69%|██████▉   | 43.6M/62.9M [00:51<00:21, 903kB/s]\u001b[A\n",
            "DENGBR23.dbc:  69%|██████▉   | 43.7M/62.9M [00:51<00:22, 841kB/s]\u001b[A\n",
            "DENGBR23.dbc:  70%|██████▉   | 43.9M/62.9M [00:51<00:21, 890kB/s]\u001b[A\n",
            "DENGBR23.dbc:  70%|██████▉   | 44.0M/62.9M [00:51<00:20, 913kB/s]\u001b[A\n",
            "DENGBR23.dbc:  70%|███████   | 44.1M/62.9M [00:51<00:20, 925kB/s]\u001b[A\n",
            "DENGBR23.dbc:  70%|███████   | 44.2M/62.9M [00:52<00:38, 479kB/s]\u001b[A\n",
            "DENGBR23.dbc:  70%|███████   | 44.3M/62.9M [00:52<00:50, 367kB/s]\u001b[A\n",
            "DENGBR23.dbc:  71%|███████   | 44.4M/62.9M [00:53<00:48, 384kB/s]\u001b[A\n",
            "DENGBR23.dbc:  71%|███████   | 44.4M/62.9M [00:53<00:46, 397kB/s]\u001b[A\n",
            "DENGBR23.dbc:  71%|███████   | 44.5M/62.9M [00:53<00:46, 400kB/s]\u001b[A\n",
            "DENGBR23.dbc:  71%|███████   | 44.6M/62.9M [00:53<00:41, 446kB/s]\u001b[A\n",
            "DENGBR23.dbc:  71%|███████   | 44.7M/62.9M [00:53<00:35, 512kB/s]\u001b[A\n",
            "DENGBR23.dbc:  71%|███████   | 44.8M/62.9M [00:53<00:31, 568kB/s]\u001b[A\n",
            "DENGBR23.dbc:  71%|███████▏  | 44.8M/62.9M [00:53<00:32, 561kB/s]\u001b[A\n",
            "DENGBR23.dbc:  71%|███████▏  | 44.9M/62.9M [00:53<00:29, 612kB/s]\u001b[A\n",
            "DENGBR23.dbc:  72%|███████▏  | 45.0M/62.9M [00:54<00:28, 635kB/s]\u001b[A\n",
            "DENGBR23.dbc:  72%|███████▏  | 45.1M/62.9M [00:54<00:26, 676kB/s]\u001b[A\n",
            "DENGBR23.dbc:  72%|███████▏  | 45.2M/62.9M [00:54<00:25, 695kB/s]\u001b[A\n",
            "DENGBR23.dbc:  72%|███████▏  | 45.3M/62.9M [00:54<00:24, 712kB/s]\u001b[A\n",
            "DENGBR23.dbc:  72%|███████▏  | 45.4M/62.9M [00:54<00:24, 710kB/s]\u001b[A\n",
            "DENGBR23.dbc:  72%|███████▏  | 45.5M/62.9M [00:54<00:23, 730kB/s]\u001b[A\n",
            "DENGBR23.dbc:  73%|███████▎  | 45.6M/62.9M [00:54<00:24, 718kB/s]\u001b[A\n",
            "DENGBR23.dbc:  73%|███████▎  | 45.7M/62.9M [00:55<00:23, 742kB/s]\u001b[A\n",
            "DENGBR23.dbc:  73%|███████▎  | 45.8M/62.9M [00:55<00:23, 721kB/s]\u001b[A\n",
            "DENGBR23.dbc:  73%|███████▎  | 45.9M/62.9M [00:55<00:22, 765kB/s]\u001b[A\n",
            "DENGBR23.dbc:  73%|███████▎  | 46.0M/62.9M [00:55<00:23, 722kB/s]\u001b[A\n",
            "DENGBR23.dbc:  73%|███████▎  | 46.1M/62.9M [00:55<00:21, 768kB/s]\u001b[A\n",
            "DENGBR23.dbc:  73%|███████▎  | 46.2M/62.9M [00:55<00:23, 718kB/s]\u001b[A\n",
            "DENGBR23.dbc:  74%|███████▎  | 46.3M/62.9M [00:55<00:24, 669kB/s]\u001b[A\n",
            "DENGBR23.dbc:  74%|███████▎  | 46.4M/62.9M [00:55<00:25, 637kB/s]\u001b[A\n",
            "DENGBR23.dbc:  74%|███████▍  | 46.4M/62.9M [00:56<00:26, 631kB/s]\u001b[A\n",
            "DENGBR23.dbc:  74%|███████▍  | 46.5M/62.9M [00:56<00:24, 659kB/s]\u001b[A\n",
            "DENGBR23.dbc:  74%|███████▍  | 46.6M/62.9M [00:56<00:25, 629kB/s]\u001b[A\n",
            "DENGBR23.dbc:  74%|███████▍  | 46.7M/62.9M [00:56<00:24, 653kB/s]\u001b[A\n",
            "DENGBR23.dbc:  74%|███████▍  | 46.8M/62.9M [00:56<00:26, 609kB/s]\u001b[A\n",
            "DENGBR23.dbc:  74%|███████▍  | 46.9M/62.9M [00:56<00:25, 639kB/s]\u001b[A\n",
            "DENGBR23.dbc:  75%|███████▍  | 47.0M/62.9M [00:56<00:24, 660kB/s]\u001b[A\n",
            "DENGBR23.dbc:  75%|███████▍  | 47.1M/62.9M [00:57<00:22, 692kB/s]\u001b[A\n",
            "DENGBR23.dbc:  75%|███████▍  | 47.2M/62.9M [00:57<00:21, 716kB/s]\u001b[A\n",
            "DENGBR23.dbc:  75%|███████▌  | 47.3M/62.9M [00:57<00:22, 707kB/s]\u001b[A\n",
            "DENGBR23.dbc:  75%|███████▌  | 47.4M/62.9M [00:57<00:21, 735kB/s]\u001b[A\n",
            "DENGBR23.dbc:  75%|███████▌  | 47.4M/62.9M [00:57<00:22, 697kB/s]\u001b[A\n",
            "DENGBR23.dbc:  76%|███████▌  | 47.6M/62.9M [00:57<00:20, 736kB/s]\u001b[A\n",
            "DENGBR23.dbc:  76%|███████▌  | 47.7M/62.9M [00:57<00:21, 722kB/s]\u001b[A\n",
            "DENGBR23.dbc:  76%|███████▌  | 47.8M/62.9M [00:58<00:19, 759kB/s]\u001b[A\n",
            "DENGBR23.dbc:  76%|███████▌  | 47.8M/62.9M [00:58<00:20, 720kB/s]\u001b[A\n",
            "DENGBR23.dbc:  76%|███████▌  | 48.0M/62.9M [00:58<00:19, 764kB/s]\u001b[A\n",
            "DENGBR23.dbc:  76%|███████▋  | 48.0M/62.9M [00:58<00:26, 557kB/s]\u001b[A\n",
            "DENGBR23.dbc:  76%|███████▋  | 48.1M/62.9M [00:58<00:26, 551kB/s]\u001b[A\n",
            "DENGBR23.dbc:  77%|███████▋  | 48.2M/62.9M [00:58<00:27, 527kB/s]\u001b[A\n",
            "DENGBR23.dbc:  77%|███████▋  | 48.3M/62.9M [00:58<00:24, 586kB/s]\u001b[A\n",
            "DENGBR23.dbc:  77%|███████▋  | 48.4M/62.9M [00:59<00:23, 617kB/s]\u001b[A\n",
            "DENGBR23.dbc:  77%|███████▋  | 48.5M/62.9M [00:59<00:21, 671kB/s]\u001b[A\n",
            "DENGBR23.dbc:  77%|███████▋  | 48.6M/62.9M [00:59<00:21, 668kB/s]\u001b[A\n",
            "DENGBR23.dbc:  77%|███████▋  | 48.7M/62.9M [00:59<00:19, 717kB/s]\u001b[A\n",
            "DENGBR23.dbc:  78%|███████▊  | 48.8M/62.9M [00:59<00:20, 702kB/s]\u001b[A\n",
            "DENGBR23.dbc:  78%|███████▊  | 48.9M/62.9M [00:59<00:18, 749kB/s]\u001b[A\n",
            "DENGBR23.dbc:  78%|███████▊  | 49.0M/62.9M [00:59<00:19, 715kB/s]\u001b[A\n",
            "DENGBR23.dbc:  78%|███████▊  | 49.1M/62.9M [00:59<00:18, 752kB/s]\u001b[A\n",
            "DENGBR23.dbc:  78%|███████▊  | 49.2M/62.9M [01:00<00:19, 714kB/s]\u001b[A\n",
            "DENGBR23.dbc:  78%|███████▊  | 49.3M/62.9M [01:00<00:17, 773kB/s]\u001b[A\n",
            "DENGBR23.dbc:  78%|███████▊  | 49.4M/62.9M [01:00<00:18, 733kB/s]\u001b[A\n",
            "DENGBR23.dbc:  79%|███████▊  | 49.5M/62.9M [01:00<00:17, 774kB/s]\u001b[A\n",
            "DENGBR23.dbc:  79%|███████▉  | 49.6M/62.9M [01:00<00:18, 730kB/s]\u001b[A\n",
            "DENGBR23.dbc:  79%|███████▉  | 49.7M/62.9M [01:00<00:17, 778kB/s]\u001b[A\n",
            "DENGBR23.dbc:  79%|███████▉  | 49.8M/62.9M [01:00<00:15, 835kB/s]\u001b[A\n",
            "DENGBR23.dbc:  79%|███████▉  | 49.9M/62.9M [01:01<00:14, 882kB/s]\u001b[A\n",
            "DENGBR23.dbc:  80%|███████▉  | 50.1M/62.9M [01:01<00:14, 902kB/s]\u001b[A\n",
            "DENGBR23.dbc:  80%|███████▉  | 50.2M/62.9M [01:01<00:13, 925kB/s]\u001b[A\n",
            "DENGBR23.dbc:  80%|████████  | 50.3M/62.9M [01:01<00:13, 938kB/s]\u001b[A\n",
            "DENGBR23.dbc:  80%|████████  | 50.5M/62.9M [01:01<00:13, 948kB/s]\u001b[A\n",
            "DENGBR23.dbc:  80%|████████  | 50.6M/62.9M [01:01<00:12, 954kB/s]\u001b[A\n",
            "DENGBR23.dbc:  81%|████████  | 50.7M/62.9M [01:01<00:12, 951kB/s]\u001b[A\n",
            "DENGBR23.dbc:  81%|████████  | 50.9M/62.9M [01:02<00:12, 971kB/s]\u001b[A\n",
            "DENGBR23.dbc:  81%|████████  | 51.0M/62.9M [01:02<00:12, 955kB/s]\u001b[A\n",
            "DENGBR23.dbc:  81%|████████▏ | 51.1M/62.9M [01:02<00:12, 975kB/s]\u001b[A\n",
            "DENGBR23.dbc:  81%|████████▏ | 51.3M/62.9M [01:02<00:11, 975kB/s]\u001b[A\n",
            "DENGBR23.dbc:  82%|████████▏ | 51.4M/62.9M [01:02<00:11, 973kB/s]\u001b[A\n",
            "DENGBR23.dbc:  82%|████████▏ | 51.5M/62.9M [01:02<00:11, 968kB/s]\u001b[A\n",
            "DENGBR23.dbc:  82%|████████▏ | 51.7M/62.9M [01:02<00:11, 968kB/s]\u001b[A\n",
            "DENGBR23.dbc:  82%|████████▏ | 51.8M/62.9M [01:02<00:11, 964kB/s]\u001b[A\n",
            "DENGBR23.dbc:  83%|████████▎ | 51.9M/62.9M [01:03<00:11, 963kB/s]\u001b[A\n",
            "DENGBR23.dbc:  83%|████████▎ | 52.0M/62.9M [01:03<00:11, 964kB/s]\u001b[A\n",
            "DENGBR23.dbc:  83%|████████▎ | 52.2M/62.9M [01:03<00:11, 960kB/s]\u001b[A\n",
            "DENGBR23.dbc:  83%|████████▎ | 52.3M/62.9M [01:03<00:10, 966kB/s]\u001b[A\n",
            "DENGBR23.dbc:  83%|████████▎ | 52.4M/62.9M [01:03<00:10, 959kB/s]\u001b[A\n",
            "DENGBR23.dbc:  84%|████████▎ | 52.6M/62.9M [01:03<00:10, 960kB/s]\u001b[A\n",
            "DENGBR23.dbc:  84%|████████▍ | 52.7M/62.9M [01:03<00:10, 960kB/s]\u001b[A\n",
            "DENGBR23.dbc:  84%|████████▍ | 52.8M/62.9M [01:04<00:10, 962kB/s]\u001b[A\n",
            "DENGBR23.dbc:  84%|████████▍ | 53.0M/62.9M [01:04<00:10, 962kB/s]\u001b[A\n",
            "DENGBR23.dbc:  84%|████████▍ | 53.1M/62.9M [01:04<00:10, 961kB/s]\u001b[A\n",
            "DENGBR23.dbc:  85%|████████▍ | 53.2M/62.9M [01:04<00:10, 951kB/s]\u001b[A\n",
            "DENGBR23.dbc:  85%|████████▍ | 53.4M/62.9M [01:04<00:09, 964kB/s]\u001b[A\n",
            "DENGBR23.dbc:  85%|████████▌ | 53.5M/62.9M [01:04<00:09, 962kB/s]\u001b[A\n",
            "DENGBR23.dbc:  85%|████████▌ | 53.6M/62.9M [01:04<00:09, 963kB/s]\u001b[A\n",
            "DENGBR23.dbc:  85%|████████▌ | 53.7M/62.9M [01:05<00:09, 963kB/s]\u001b[A\n",
            "DENGBR23.dbc:  86%|████████▌ | 53.9M/62.9M [01:05<00:09, 965kB/s]\u001b[A\n",
            "DENGBR23.dbc:  86%|████████▌ | 54.0M/62.9M [01:05<00:09, 966kB/s]\u001b[A\n",
            "DENGBR23.dbc:  86%|████████▌ | 54.1M/62.9M [01:05<00:09, 962kB/s]\u001b[A\n",
            "DENGBR23.dbc:  86%|████████▋ | 54.3M/62.9M [01:05<00:08, 961kB/s]\u001b[A\n",
            "DENGBR23.dbc:  86%|████████▋ | 54.4M/62.9M [01:05<00:08, 957kB/s]\u001b[A\n",
            "DENGBR23.dbc:  87%|████████▋ | 54.5M/62.9M [01:05<00:09, 894kB/s]\u001b[A\n",
            "DENGBR23.dbc:  87%|████████▋ | 54.6M/62.9M [01:05<00:09, 865kB/s]\u001b[A\n",
            "DENGBR23.dbc:  87%|████████▋ | 54.7M/62.9M [01:06<00:09, 884kB/s]\u001b[A\n",
            "DENGBR23.dbc:  87%|████████▋ | 54.9M/62.9M [01:06<00:08, 926kB/s]\u001b[A\n",
            "DENGBR23.dbc:  87%|████████▋ | 55.0M/62.9M [01:06<00:08, 926kB/s]\u001b[A\n",
            "DENGBR23.dbc:  88%|████████▊ | 55.1M/62.9M [01:06<00:08, 940kB/s]\u001b[A\n",
            "DENGBR23.dbc:  88%|████████▊ | 55.3M/62.9M [01:06<00:07, 962kB/s]\u001b[A\n",
            "DENGBR23.dbc:  88%|████████▊ | 55.4M/62.9M [01:06<00:07, 966kB/s]\u001b[A\n",
            "DENGBR23.dbc:  88%|████████▊ | 55.5M/62.9M [01:06<00:07, 969kB/s]\u001b[A\n",
            "DENGBR23.dbc:  88%|████████▊ | 55.6M/62.9M [01:07<00:07, 951kB/s]\u001b[A\n",
            "DENGBR23.dbc:  89%|████████▊ | 55.8M/62.9M [01:07<00:07, 953kB/s]\u001b[A\n",
            "DENGBR23.dbc:  89%|████████▉ | 55.9M/62.9M [01:07<00:07, 958kB/s]\u001b[A\n",
            "DENGBR23.dbc:  89%|████████▉ | 56.0M/62.9M [01:07<00:07, 963kB/s]\u001b[A\n",
            "DENGBR23.dbc:  89%|████████▉ | 56.2M/62.9M [01:07<00:06, 973kB/s]\u001b[A\n",
            "DENGBR23.dbc:  89%|████████▉ | 56.3M/62.9M [01:07<00:06, 955kB/s]\u001b[A\n",
            "DENGBR23.dbc:  90%|████████▉ | 56.4M/62.9M [01:07<00:06, 967kB/s]\u001b[A\n",
            "DENGBR23.dbc:  90%|████████▉ | 56.6M/62.9M [01:07<00:06, 975kB/s]\u001b[A\n",
            "DENGBR23.dbc:  90%|█████████ | 56.7M/62.9M [01:08<00:06, 973kB/s]\u001b[A\n",
            "DENGBR23.dbc:  90%|█████████ | 56.8M/62.9M [01:08<00:06, 977kB/s]\u001b[A\n",
            "DENGBR23.dbc:  91%|█████████ | 57.0M/62.9M [01:08<00:06, 981kB/s]\u001b[A\n",
            "DENGBR23.dbc:  91%|█████████ | 57.1M/62.9M [01:08<00:05, 975kB/s]\u001b[A\n",
            "DENGBR23.dbc:  91%|█████████ | 57.2M/62.9M [01:08<00:05, 968kB/s]\u001b[A\n",
            "DENGBR23.dbc:  91%|█████████ | 57.3M/62.9M [01:08<00:05, 961kB/s]\u001b[A\n",
            "DENGBR23.dbc:  91%|█████████▏| 57.5M/62.9M [01:08<00:05, 977kB/s]\u001b[A\n",
            "DENGBR23.dbc:  92%|█████████▏| 57.6M/62.9M [01:09<00:05, 981kB/s]\u001b[A\n",
            "DENGBR23.dbc:  92%|█████████▏| 57.7M/62.9M [01:09<00:05, 966kB/s]\u001b[A\n",
            "DENGBR23.dbc:  92%|█████████▏| 57.9M/62.9M [01:09<00:05, 976kB/s]\u001b[A\n",
            "DENGBR23.dbc:  92%|█████████▏| 58.0M/62.9M [01:09<00:05, 974kB/s]\u001b[A\n",
            "DENGBR23.dbc:  92%|█████████▏| 58.1M/62.9M [01:09<00:04, 969kB/s]\u001b[A\n",
            "DENGBR23.dbc:  93%|█████████▎| 58.3M/62.9M [01:09<00:04, 970kB/s]\u001b[A\n",
            "DENGBR23.dbc:  93%|█████████▎| 58.4M/62.9M [01:09<00:04, 975kB/s]\u001b[A\n",
            "DENGBR23.dbc:  93%|█████████▎| 58.5M/62.9M [01:09<00:04, 960kB/s]\u001b[A\n",
            "DENGBR23.dbc:  93%|█████████▎| 58.7M/62.9M [01:10<00:04, 979kB/s]\u001b[A\n",
            "DENGBR23.dbc:  93%|█████████▎| 58.8M/62.9M [01:10<00:04, 975kB/s]\u001b[A\n",
            "DENGBR23.dbc:  94%|█████████▎| 58.9M/62.9M [01:10<00:04, 965kB/s]\u001b[A\n",
            "DENGBR23.dbc:  94%|█████████▍| 59.1M/62.9M [01:10<00:03, 983kB/s]\u001b[A\n",
            "DENGBR23.dbc:  94%|█████████▍| 59.2M/62.9M [01:10<00:03, 980kB/s]\u001b[A\n",
            "DENGBR23.dbc:  94%|█████████▍| 59.3M/62.9M [01:10<00:03, 967kB/s]\u001b[A\n",
            "DENGBR23.dbc:  94%|█████████▍| 59.4M/62.9M [01:10<00:03, 971kB/s]\u001b[A\n",
            "DENGBR23.dbc:  95%|█████████▍| 59.6M/62.9M [01:11<00:03, 981kB/s]\u001b[A\n",
            "DENGBR23.dbc:  95%|█████████▍| 59.7M/62.9M [01:11<00:03, 962kB/s]\u001b[A\n",
            "DENGBR23.dbc:  95%|█████████▌| 59.8M/62.9M [01:11<00:03, 974kB/s]\u001b[A\n",
            "DENGBR23.dbc:  95%|█████████▌| 60.0M/62.9M [01:11<00:03, 965kB/s]\u001b[A\n",
            "DENGBR23.dbc:  96%|█████████▌| 60.1M/62.9M [01:11<00:02, 981kB/s]\u001b[A\n",
            "DENGBR23.dbc:  96%|█████████▌| 60.2M/62.9M [01:11<00:02, 976kB/s]\u001b[A\n",
            "DENGBR23.dbc:  96%|█████████▌| 60.4M/62.9M [01:11<00:02, 973kB/s]\u001b[A\n",
            "DENGBR23.dbc:  96%|█████████▌| 60.5M/62.9M [01:12<00:02, 968kB/s]\u001b[A\n",
            "DENGBR23.dbc:  96%|█████████▋| 60.6M/62.9M [01:12<00:02, 975kB/s]\u001b[A\n",
            "DENGBR23.dbc:  97%|█████████▋| 60.8M/62.9M [01:12<00:02, 958kB/s]\u001b[A\n",
            "DENGBR23.dbc:  97%|█████████▋| 60.9M/62.9M [01:12<00:02, 970kB/s]\u001b[A\n",
            "DENGBR23.dbc:  97%|█████████▋| 61.0M/62.9M [01:12<00:01, 962kB/s]\u001b[A\n",
            "DENGBR23.dbc:  97%|█████████▋| 61.2M/62.9M [01:12<00:01, 964kB/s]\u001b[A\n",
            "DENGBR23.dbc:  97%|█████████▋| 61.3M/62.9M [01:12<00:01, 965kB/s]\u001b[A\n",
            "DENGBR23.dbc:  98%|█████████▊| 61.4M/62.9M [01:12<00:01, 951kB/s]\u001b[A\n",
            "DENGBR23.dbc:  98%|█████████▊| 61.5M/62.9M [01:13<00:01, 969kB/s]\u001b[A\n",
            "DENGBR23.dbc:  98%|█████████▊| 61.7M/62.9M [01:13<00:01, 966kB/s]\u001b[A\n",
            "DENGBR23.dbc:  98%|█████████▊| 61.8M/62.9M [01:13<00:01, 973kB/s]\u001b[A\n",
            "DENGBR23.dbc:  98%|█████████▊| 61.9M/62.9M [01:13<00:01, 969kB/s]\u001b[A\n",
            "DENGBR23.dbc:  99%|█████████▊| 62.1M/62.9M [01:13<00:00, 971kB/s]\u001b[A\n",
            "DENGBR23.dbc:  99%|█████████▉| 62.2M/62.9M [01:13<00:00, 955kB/s]\u001b[A\n",
            "DENGBR23.dbc:  99%|█████████▉| 62.3M/62.9M [01:13<00:00, 975kB/s]\u001b[A\n",
            "DENGBR23.dbc:  99%|█████████▉| 62.5M/62.9M [01:14<00:00, 970kB/s]\u001b[A\n",
            "DENGBR23.dbc:  99%|█████████▉| 62.6M/62.9M [01:14<00:00, 972kB/s]\u001b[A\n",
            "DENGBR23.dbc: 100%|█████████▉| 62.7M/62.9M [01:14<00:00, 953kB/s]\u001b[A\n",
            "DENGBR23.dbc: 100%|█████████▉| 62.9M/62.9M [01:14<00:00, 972kB/s]\u001b[A\n",
            "DENGBR23.dbc:   0%|          | 0.00/1.00 [00:00<?, ?B/s]         \u001b[A\n",
            "DENGBR23.dbf:   0%|          | 0.00/1.00 [00:00<?, ?B/s]\u001b[A\n",
            "DENGBR23.dbf:   0%|          | 0.00/2.24M [00:00<?, ?B/s]\u001b[A\n",
            "DENGBR22.parquet:  26%|██▋       | 600k/2.27M [02:33<07:07, 3.91kB/s]\n",
            "\n",
            "DENGBR23.parquet:   5%|▌         | 120k/2.24M [00:11<03:15, 10.8kB/s]\u001b[A\n",
            "DENGBR23.parquet:   7%|▋         | 150k/2.24M [00:14<03:17, 10.6kB/s]\u001b[A\n",
            "DENGBR23.parquet:   8%|▊         | 180k/2.24M [00:17<03:26, 9.94kB/s]\u001b[A\n",
            "DENGBR23.parquet:   9%|▉         | 210k/2.24M [00:20<03:29, 9.70kB/s]\u001b[A\n",
            "DENGBR23.parquet:  11%|█         | 240k/2.24M [00:24<03:26, 9.68kB/s]\u001b[A\n",
            "DENGBR23.parquet:  12%|█▏        | 270k/2.24M [00:26<03:19, 9.88kB/s]\u001b[A\n",
            "DENGBR23.parquet:  13%|█▎        | 300k/2.24M [00:30<03:29, 9.25kB/s]\u001b[A\n",
            "DENGBR23.parquet:  15%|█▍        | 330k/2.24M [00:33<03:23, 9.39kB/s]\u001b[A\n",
            "DENGBR23.parquet:  16%|█▌        | 360k/2.24M [00:36<03:19, 9.42kB/s]\u001b[A\n",
            "DENGBR23.parquet:  17%|█▋        | 390k/2.24M [00:39<03:10, 9.68kB/s]\u001b[A\n",
            "DENGBR23.parquet:  19%|█▉        | 420k/2.24M [00:43<03:24, 8.87kB/s]\u001b[A\n",
            "DENGBR23.parquet:  20%|██        | 450k/2.24M [00:46<03:12, 9.30kB/s]\u001b[A\n",
            "DENGBR23.parquet:  21%|██▏       | 480k/2.24M [00:49<03:08, 9.31kB/s]\u001b[A\n",
            "DENGBR23.parquet:  23%|██▎       | 510k/2.24M [00:52<02:59, 9.60kB/s]\u001b[A\n",
            "DENGBR23.parquet:  24%|██▍       | 540k/2.24M [00:57<03:15, 8.69kB/s]\u001b[A\n",
            "DENGBR23.parquet:  25%|██▌       | 570k/2.24M [00:59<03:01, 9.18kB/s]\u001b[A\n",
            "DENGBR23.parquet:  27%|██▋       | 600k/2.24M [01:03<02:57, 9.24kB/s]\u001b[A\n",
            "DENGBR23.parquet:  28%|██▊       | 630k/2.24M [01:05<02:47, 9.58kB/s]\u001b[A\n",
            "DENGBR23.parquet:  30%|██▉       | 660k/2.24M [01:10<03:01, 8.70kB/s]\u001b[A\n",
            "DENGBR23.parquet:  31%|███       | 690k/2.24M [01:12<02:48, 9.15kB/s]\u001b[A\n",
            "DENGBR23.parquet:  32%|███▏      | 720k/2.24M [01:16<02:44, 9.24kB/s]\u001b[A\n",
            "DENGBR23.parquet:  34%|███▎      | 750k/2.24M [01:19<02:36, 9.51kB/s]\u001b[A\n",
            "DENGBR23.parquet:  35%|███▍      | 780k/2.24M [01:23<02:46, 8.76kB/s]\u001b[A\n",
            "DENGBR23.parquet:  36%|███▌      | 810k/2.24M [01:26<02:35, 9.19kB/s]\u001b[A\n",
            "DENGBR23.parquet:  38%|███▊      | 840k/2.24M [01:29<02:30, 9.31kB/s]\u001b[A\n",
            "DENGBR23.parquet:  39%|███▉      | 870k/2.24M [01:32<02:26, 9.34kB/s]\u001b[A\n",
            "DENGBR23.parquet:  40%|████      | 900k/2.24M [01:36<02:29, 8.95kB/s]\u001b[A\n",
            "DENGBR23.parquet:  42%|████▏     | 930k/2.24M [01:38<02:19, 9.36kB/s]\u001b[A\n",
            "DENGBR23.parquet:  43%|████▎     | 960k/2.24M [01:41<02:14, 9.47kB/s]\u001b[A\n",
            "DENGBR23.parquet:  44%|████▍     | 990k/2.24M [01:45<02:17, 9.08kB/s]\u001b[A\n",
            "DENGBR23.parquet:  46%|████▌     | 1.02M/2.24M [01:48<02:11, 9.24kB/s]\u001b[A\n",
            "DENGBR23.parquet:  47%|████▋     | 1.05M/2.24M [01:51<02:07, 9.31kB/s]\u001b[A\n",
            "DENGBR23.parquet:  48%|████▊     | 1.08M/2.24M [01:54<02:00, 9.56kB/s]\u001b[A\n",
            "DENGBR23.parquet:  50%|████▉     | 1.11M/2.24M [01:58<02:08, 8.80kB/s]\u001b[A\n",
            "DENGBR23.parquet:  51%|█████     | 1.14M/2.24M [02:01<02:00, 9.12kB/s]\u001b[A\n",
            "DENGBR23.parquet:  52%|█████▏    | 1.17M/2.24M [02:05<01:55, 9.23kB/s]\u001b[A\n",
            "DENGBR23.parquet:  54%|█████▎    | 1.20M/2.24M [02:07<01:48, 9.54kB/s]\u001b[A\n",
            "DENGBR23.parquet:  55%|█████▍    | 1.23M/2.24M [02:12<01:56, 8.62kB/s]\u001b[A\n",
            "DENGBR23.parquet:  56%|█████▋    | 1.26M/2.24M [02:15<01:47, 9.06kB/s]\u001b[A\n",
            "DENGBR23.parquet:  58%|█████▊    | 1.29M/2.24M [02:18<01:40, 9.40kB/s]\u001b[A\n",
            "DENGBR23.parquet:  59%|█████▉    | 1.32M/2.24M [02:21<01:37, 9.45kB/s]\u001b[A\n",
            "DENGBR23.parquet:  60%|██████    | 1.35M/2.24M [02:25<01:42, 8.67kB/s]\u001b[A\n",
            "DENGBR23.parquet:  62%|██████▏   | 1.38M/2.24M [02:28<01:32, 9.25kB/s]\u001b[A\n",
            "DENGBR23.parquet: 100%|██████████| 2.24M/2.24M [02:29<00:00, 102kB/s] \u001b[A\n",
            "DENGBR23.parquet:   0%|          | 0.00/931k [00:00<?, ?B/s]         \u001b[A\n",
            "ZIKABR22.dbc:   0%|          | 0.00/931k [00:00<?, ?B/s]    \u001b[A\n",
            "ZIKABR22.dbc:   2%|▏         | 20.3k/931k [00:01<01:11, 12.8kB/s]\u001b[A\n",
            "ZIKABR22.dbc:   5%|▍         | 42.0k/931k [00:01<00:30, 28.9kB/s]\u001b[A\n",
            "ZIKABR22.dbc:   8%|▊         | 73.8k/931k [00:01<00:15, 56.9kB/s]\u001b[A\n",
            "ZIKABR22.dbc:  12%|█▏        | 108k/931k [00:01<00:09, 89.2kB/s] \u001b[A\n",
            "ZIKABR22.dbc:  17%|█▋        | 157k/931k [00:02<00:05, 142kB/s] \u001b[A\n",
            "ZIKABR22.dbc:  25%|██▍       | 233k/931k [00:02<00:03, 232kB/s]\u001b[A\n",
            "ZIKABR22.dbc:  36%|███▌      | 336k/931k [00:02<00:01, 356kB/s]\u001b[A\n",
            "ZIKABR22.dbc:  49%|████▉     | 458k/931k [00:02<00:00, 496kB/s]\u001b[A\n",
            "ZIKABR22.dbc:  56%|█████▋    | 526k/931k [00:02<00:00, 502kB/s]\u001b[A\n",
            "ZIKABR22.dbc:  71%|███████   | 664k/931k [00:02<00:00, 643kB/s]\u001b[A\n",
            "ZIKABR22.dbc:  85%|████████▌ | 795k/931k [00:02<00:00, 735kB/s]\u001b[A\n",
            "ZIKABR22.dbc:  99%|█████████▉| 926k/931k [00:03<00:00, 802kB/s]\u001b[A\n",
            "ZIKABR22.dbc:   0%|          | 0.00/1.00 [00:00<?, ?B/s]       \u001b[A\n",
            "ZIKABR22.dbf:   0%|          | 0.00/1.00 [00:00<?, ?B/s]\u001b[A\n",
            "ZIKABR22.dbf:   0%|          | 0.00/27.4k [00:00<?, ?B/s]\u001b[A\n",
            "ZIKABR22.parquet:   0%|          | 0.00/27.4k [00:00<?, ?B/s]\u001b[A\n",
            "ZIKABR22.parquet:   0%|          | 0.00/384k [00:00<?, ?B/s] \u001b[A\n",
            "ZIKABR23.dbc:   0%|          | 0.00/384k [00:00<?, ?B/s]    \u001b[A\n",
            "ZIKABR23.dbc:  24%|██▍       | 92.2k/384k [00:01<00:05, 57.2kB/s]\u001b[A\n",
            "ZIKABR23.dbc:  38%|███▊      | 146k/384k [00:01<00:02, 94.3kB/s] \u001b[A\n",
            "ZIKABR23.dbc:  59%|█████▉    | 228k/384k [00:01<00:00, 163kB/s] \u001b[A\n",
            "ZIKABR23.dbc:  85%|████████▍ | 326k/384k [00:02<00:00, 255kB/s]\u001b[A\n",
            "ZIKABR23.dbc: 100%|██████████| 384k/384k [00:02<00:00, 287kB/s]\u001b[A\n",
            "ZIKABR23.dbc:   0%|          | 0.00/1.00 [00:00<?, ?B/s]       \u001b[A\n",
            "ZIKABR23.dbf:   0%|          | 0.00/1.00 [00:00<?, ?B/s]\u001b[A\n",
            "ZIKABR23.dbf:   0%|          | 0.00/11.6k [00:00<?, ?B/s]\u001b[A\n",
            "ZIKABR23.parquet: 100%|██████████| 11.6k/11.6k [00:00<00:00, 20.2kB/s]\n"
          ]
        },
        {
          "output_type": "execute_result",
          "data": {
            "text/plain": [
              "[/root/pysus/DENGBR22.parquet,\n",
              " /root/pysus/DENGBR23.parquet,\n",
              " /root/pysus/ZIKABR22.parquet,\n",
              " /root/pysus/ZIKABR23.parquet]"
            ]
          },
          "metadata": {},
          "execution_count": 10
        }
      ],
      "source": [
        "parquets = sinan.download(arquivos)\n",
        "parquets"
      ],
      "metadata": {
        "ExecuteTime": {
          "end_time": "2023-11-30T13:43:38.712453139Z",
          "start_time": "2023-11-30T13:43:38.669061145Z"
        },
        "colab": {
          "base_uri": "https://localhost:8080/"
        },
        "id": "y8JoMCl5O7da",
        "outputId": "be1ab8dc-aa36-417a-f72a-02a6317c011a"
      }
    },
    {
      "cell_type": "markdown",
      "source": [
        "vamos carregar para a memória os dados de Zika"
      ],
      "metadata": {
        "collapsed": false,
        "id": "oA5YJZa1O7da"
      }
    },
    {
      "cell_type": "code",
      "execution_count": 11,
      "outputs": [
        {
          "output_type": "stream",
          "name": "stdout",
          "text": [
            "<class 'pandas.core.frame.DataFrame'>\n",
            "RangeIndex: 35121 entries, 0 to 35120\n",
            "Data columns (total 38 columns):\n",
            " #   Column      Non-Null Count  Dtype \n",
            "---  ------      --------------  ----- \n",
            " 0   TP_NOT      35121 non-null  string\n",
            " 1   ID_AGRAVO   35121 non-null  string\n",
            " 2   DT_NOTIFIC  35121 non-null  object\n",
            " 3   SEM_NOT     35121 non-null  string\n",
            " 4   NU_ANO      35121 non-null  string\n",
            " 5   SG_UF_NOT   35121 non-null  string\n",
            " 6   ID_MUNICIP  35121 non-null  string\n",
            " 7   ID_REGIONA  35121 non-null  string\n",
            " 8   ID_UNIDADE  35121 non-null  string\n",
            " 9   DT_SIN_PRI  35121 non-null  object\n",
            " 10  SEM_PRI     35121 non-null  string\n",
            " 11  ANO_NASC    35121 non-null  string\n",
            " 12  NU_IDADE_N  35121 non-null  string\n",
            " 13  CS_SEXO     35121 non-null  string\n",
            " 14  CS_GESTANT  35121 non-null  string\n",
            " 15  CS_RACA     35121 non-null  string\n",
            " 16  CS_ESCOL_N  35121 non-null  string\n",
            " 17  SG_UF       35121 non-null  string\n",
            " 18  ID_MN_RESI  35121 non-null  string\n",
            " 19  ID_RG_RESI  35121 non-null  string\n",
            " 20  ID_PAIS     35121 non-null  string\n",
            " 21  NDUPLIC_N   35121 non-null  string\n",
            " 22  IN_VINCULA  35121 non-null  string\n",
            " 23  DT_INVEST   35121 non-null  string\n",
            " 24  ID_OCUPA_N  35121 non-null  string\n",
            " 25  CLASSI_FIN  35121 non-null  string\n",
            " 26  CRITERIO    35121 non-null  string\n",
            " 27  TPAUTOCTO   35121 non-null  string\n",
            " 28  COUFINF     35121 non-null  string\n",
            " 29  COPAISINF   35121 non-null  string\n",
            " 30  COMUNINF    35121 non-null  string\n",
            " 31  DOENCA_TRA  35121 non-null  string\n",
            " 32  EVOLUCAO    35121 non-null  string\n",
            " 33  DT_OBITO    35121 non-null  string\n",
            " 34  DT_ENCERRA  35121 non-null  string\n",
            " 35  DT_DIGITA   35121 non-null  string\n",
            " 36  TP_SISTEMA  35121 non-null  string\n",
            " 37  TPUNINOT    35121 non-null  string\n",
            "dtypes: object(2), string(36)\n",
            "memory usage: 10.2+ MB\n"
          ]
        }
      ],
      "source": [
        "df = parquets[2].to_dataframe()\n",
        "df.info()"
      ],
      "metadata": {
        "ExecuteTime": {
          "end_time": "2023-11-30T13:49:44.383030734Z",
          "start_time": "2023-11-30T13:49:44.097274003Z"
        },
        "colab": {
          "base_uri": "https://localhost:8080/"
        },
        "id": "Q8Q5tT5UO7db",
        "outputId": "6a022bd2-7648-4c59-af1c-db43c006d550"
      }
    },
    {
      "cell_type": "markdown",
      "source": [
        "Se quisermos combinar os dois anos de Zika que baixamos basta usar o seguinte comando:"
      ],
      "metadata": {
        "collapsed": false,
        "id": "oZu2L6nCO7db"
      }
    },
    {
      "cell_type": "code",
      "execution_count": 12,
      "outputs": [
        {
          "output_type": "stream",
          "name": "stdout",
          "text": [
            "<class 'pandas.core.frame.DataFrame'>\n",
            "Int64Index: 49964 entries, 0 to 14842\n",
            "Data columns (total 38 columns):\n",
            " #   Column      Non-Null Count  Dtype \n",
            "---  ------      --------------  ----- \n",
            " 0   TP_NOT      49964 non-null  string\n",
            " 1   ID_AGRAVO   49964 non-null  string\n",
            " 2   DT_NOTIFIC  49964 non-null  object\n",
            " 3   SEM_NOT     49964 non-null  string\n",
            " 4   NU_ANO      49964 non-null  string\n",
            " 5   SG_UF_NOT   49964 non-null  string\n",
            " 6   ID_MUNICIP  49964 non-null  string\n",
            " 7   ID_REGIONA  49964 non-null  string\n",
            " 8   ID_UNIDADE  49964 non-null  string\n",
            " 9   DT_SIN_PRI  49964 non-null  object\n",
            " 10  SEM_PRI     49964 non-null  string\n",
            " 11  ANO_NASC    49964 non-null  string\n",
            " 12  NU_IDADE_N  49964 non-null  string\n",
            " 13  CS_SEXO     49964 non-null  string\n",
            " 14  CS_GESTANT  49964 non-null  string\n",
            " 15  CS_RACA     49964 non-null  string\n",
            " 16  CS_ESCOL_N  49964 non-null  string\n",
            " 17  SG_UF       49964 non-null  string\n",
            " 18  ID_MN_RESI  49964 non-null  string\n",
            " 19  ID_RG_RESI  49964 non-null  string\n",
            " 20  ID_PAIS     49964 non-null  string\n",
            " 21  NDUPLIC_N   49964 non-null  string\n",
            " 22  IN_VINCULA  49964 non-null  string\n",
            " 23  DT_INVEST   49964 non-null  string\n",
            " 24  ID_OCUPA_N  49964 non-null  string\n",
            " 25  CLASSI_FIN  49964 non-null  string\n",
            " 26  CRITERIO    49964 non-null  string\n",
            " 27  TPAUTOCTO   49964 non-null  string\n",
            " 28  COUFINF     49964 non-null  string\n",
            " 29  COPAISINF   49964 non-null  string\n",
            " 30  COMUNINF    49964 non-null  string\n",
            " 31  DOENCA_TRA  49964 non-null  string\n",
            " 32  EVOLUCAO    49964 non-null  string\n",
            " 33  DT_OBITO    49964 non-null  string\n",
            " 34  DT_ENCERRA  49964 non-null  string\n",
            " 35  DT_DIGITA   49964 non-null  string\n",
            " 36  TP_SISTEMA  49964 non-null  string\n",
            " 37  TPUNINOT    49964 non-null  string\n",
            "dtypes: object(2), string(36)\n",
            "memory usage: 14.9+ MB\n"
          ]
        }
      ],
      "source": [
        "df = pd.concat([parquets[2].to_dataframe(), parquets[3].to_dataframe()],axis=0)\n",
        "df.info()"
      ],
      "metadata": {
        "ExecuteTime": {
          "end_time": "2023-11-30T13:56:27.169926758Z",
          "start_time": "2023-11-30T13:56:26.651543787Z"
        },
        "colab": {
          "base_uri": "https://localhost:8080/"
        },
        "id": "lfQuvEqGO7db",
        "outputId": "a481fc4f-644d-4971-ffef-242136a9498e"
      }
    },
    {
      "cell_type": "markdown",
      "source": [
        "Podemos fazer uma visualização bem simples dos dados. Mas antes precisamos converter as colunas com datas para o tipo datetime."
      ],
      "metadata": {
        "collapsed": false,
        "id": "a7LGh0gpO7db"
      }
    },
    {
      "cell_type": "code",
      "execution_count": 13,
      "outputs": [],
      "source": [
        "for coluna in df.columns:\n",
        "    if coluna.startswith('DT'):\n",
        "        df[coluna] = pd.to_datetime(df[coluna], errors='coerce')"
      ],
      "metadata": {
        "ExecuteTime": {
          "end_time": "2023-11-30T13:56:30.153684622Z",
          "start_time": "2023-11-30T13:56:30.134761924Z"
        },
        "id": "Y_9o8DD6O7db"
      }
    },
    {
      "cell_type": "code",
      "execution_count": 14,
      "outputs": [
        {
          "output_type": "display_data",
          "data": {
            "text/plain": [
              "<Figure size 640x480 with 1 Axes>"
            ],
            "image/png": "[encoded data removed]"
          },
          "metadata": {}
        }
      ],
      "source": [
        "df.set_index('DT_NOTIFIC', inplace=True)\n",
        "df.resample('W').count()['ID_AGRAVO'].plot();"
      ],
      "metadata": {
        "ExecuteTime": {
          "end_time": "2023-11-30T13:56:31.742481572Z",
          "start_time": "2023-11-30T13:56:31.604434623Z"
        },
        "colab": {
          "base_uri": "https://localhost:8080/",
          "height": 466
        },
        "id": "pobS0Vg_O7db",
        "outputId": "77ebccde-4561-4628-bd03-b3392ce336c0"
      }
    }
  ],
  "metadata": {
    "kernelspec": {
      "display_name": ".venv",
      "language": "python",
      "name": "python3"
    },
    "language_info": {
      "codemirror_mode": {
        "name": "ipython",
        "version": 3
      },
      "file_extension": ".py",
      "mimetype": "text/x-python",
      "name": "python",
      "nbconvert_exporter": "python",
      "pygments_lexer": "ipython3",
      "version": "3.11.6"
    },
    "colab": {
      "provenance": []
    }
  },
  "nbformat": 4,
  "nbformat_minor": 0
}